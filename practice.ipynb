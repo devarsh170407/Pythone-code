{
 "cells": [
  {
   "cell_type": "code",
   "execution_count": 2,
   "id": "c63161ee",
   "metadata": {},
   "outputs": [
    {
     "name": "stdout",
     "output_type": "stream",
     "text": [
      "\n",
      "extracted elements:\n",
      "[ 1  2  3  4  5 21 22 23 24 25  6 11 16 10 15 20]\n"
     ]
    }
   ],
   "source": [
    "import numpy as np\n",
    "\n",
    "# Create the 5x5 matrix directly from a list of lists.\n",
    "matrix = np.array([[1, 2, 3, 4, 5],\n",
    "                   [6, 7, 8, 9, 10],\n",
    "                   [11, 12, 13, 14, 15],\n",
    "                   [16, 17, 18, 19, 20],\n",
    "                   [21, 22, 23, 24, 25]])\n",
    "\n",
    "\n",
    "top_row = matrix[0, :]\n",
    "\n",
    "bottom_row = matrix[-1, :]\n",
    "\n",
    "left_column = matrix[1:-1, 0]\n",
    "\n",
    "right_column = matrix[1:-1, -1]\n",
    "\n",
    "\n",
    "border_elements = np.concatenate((top_row, bottom_row, left_column, right_column))\n",
    "\n",
    "print(\"\\nextracted elements:\")\n",
    "print(border_elements)\n"
   ]
  }
 ],
 "metadata": {
  "kernelspec": {
   "display_name": "base",
   "language": "python",
   "name": "python3"
  },
  "language_info": {
   "codemirror_mode": {
    "name": "ipython",
    "version": 3
   },
   "file_extension": ".py",
   "mimetype": "text/x-python",
   "name": "python",
   "nbconvert_exporter": "python",
   "pygments_lexer": "ipython3",
   "version": "3.12.7"
  }
 },
 "nbformat": 4,
 "nbformat_minor": 5
}
